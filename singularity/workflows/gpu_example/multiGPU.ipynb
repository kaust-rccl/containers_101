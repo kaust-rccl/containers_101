{
 "cells": [
  {
   "cell_type": "markdown",
   "metadata": {},
   "source": [
    "## Boilerplate code"
   ]
  },
  {
   "cell_type": "code",
   "execution_count": null,
   "metadata": {},
   "outputs": [],
   "source": [
    "import time, gc\n",
    "\n",
    "# Timing utilities\n",
    "start_time = None\n",
    "\n",
    "def start_timer():\n",
    "    global start_time\n",
    "    gc.collect()\n",
    "    torch.cuda.empty_cache()\n",
    "    torch.cuda.reset_max_memory_allocated()\n",
    "    torch.cuda.synchronize()\n",
    "    start_time = time.time()\n",
    "\n",
    "def end_timer_and_print(local_msg):\n",
    "    torch.cuda.synchronize()\n",
    "    end_time = time.time()\n",
    "    print(\"\\n\" + local_msg)\n",
    "    print(\"Total execution time = {:.3f} sec\".format(end_time - start_time))\n",
    "    print(\"Max memory used by tensors = {} bytes\".format(torch.cuda.max_memory_allocated()))"
   ]
  },
  {
   "cell_type": "code",
   "execution_count": null,
   "metadata": {},
   "outputs": [],
   "source": [
    "import torch, datetime, os, argparse, re\n",
    "\n",
    "# Business as usual\n",
    "import torch\n",
    "import torch.nn.functional as F\n",
    "import torch.nn as nn\n",
    "import torch.optim as optim\n",
    "import torch.backends.cudnn as cudnn\n",
    "from torch.cuda import amp\n",
    "\n",
    "import torchvision\n",
    "import torchvision.transforms as transforms\n",
    "import matplotlib.pyplot as plt\n",
    "import numpy as np\n",
    "\n"
   ]
  },
  {
   "cell_type": "code",
   "execution_count": null,
   "metadata": {},
   "outputs": [],
   "source": [
    "torch.manual_seed(43)\n",
    "cudnn.deterministic = True\n",
    "cudnn.benchmark = False"
   ]
  },
  {
   "cell_type": "code",
   "execution_count": null,
   "metadata": {},
   "outputs": [],
   "source": [
    "# import and instantiate tensorboard for monitoring model performance\n",
    "from torch.utils.tensorboard import SummaryWriter"
   ]
  },
  {
   "cell_type": "markdown",
   "metadata": {},
   "source": [
    "### Additional package \n",
    "Required for DDP implementation"
   ]
  },
  {
   "cell_type": "code",
   "execution_count": null,
   "metadata": {},
   "outputs": [],
   "source": [
    "import torch.multiprocessing as mp\n",
    "import torch.distributed as dist\n",
    "from torch.nn.parallel import DistributedDataParallel as DDP\n",
    "\n",
    "# Learning rate scheduler for progressively modifying LR w.r.t epochs to improve training\n",
    "from torch.optim.lr_scheduler import StepLR"
   ]
  },
  {
   "cell_type": "markdown",
   "metadata": {},
   "source": [
    "Setting resources and variables for training in a Jupyter notebook.\n",
    "In a python script version of the code, this section should be parsed in as arguments."
   ]
  },
  {
   "cell_type": "markdown",
   "metadata": {},
   "source": [
    "## Miscellaneous utility funtions"
   ]
  },
  {
   "cell_type": "code",
   "execution_count": null,
   "metadata": {},
   "outputs": [],
   "source": [
    "def accuracy(outputs, labels):\n",
    "    preds = outputs.argmax(dim=1)\n",
    "    return torch.sum(preds == labels).item()"
   ]
  },
  {
   "cell_type": "markdown",
   "metadata": {},
   "source": [
    "## DataLoader\n",
    "Add a data management section to load and transform data.\n",
    "Here we manage not only the data location but also how it is loaded into memory.\n",
    "\n",
    "***NOTE***: `shuffle=True` when set in `trainSampler` makes the Dataloading buggy only if PyTorch version is > 1.12. The `if` condition takes care of it."
   ]
  },
  {
   "cell_type": "code",
   "execution_count": null,
   "metadata": {
    "collapsed": false,
    "jupyter": {
     "outputs_hidden": false
    }
   },
   "outputs": [],
   "source": [
    "def dataloader(gpu,world_size,batch_size,num_workers):\n",
    "    \n",
    "    trainSampler_shuffle=True \n",
    "    version=float(re.findall(r'\\d+\\.\\d+', torch.__version__)[0])\n",
    "    if version > 1.12:\n",
    "        print('Setting shuffle=False in trainSampler')\n",
    "        trainSampler_shuffle=False \n",
    "    \n",
    "    normalize = transforms.Normalize(mean=[0.485, 0.456, 0.406], \n",
    "                                     std=[0.229, 0.224, 0.225])\n",
    "# Prepare training data\n",
    "    train_transform = transforms.Compose([ \n",
    "            transforms.RandomResizedCrop(224),\n",
    "            transforms.RandomHorizontalFlip(),\n",
    "            transforms.ToTensor(),normalize ])\n",
    "\n",
    "    val_transform = transforms.Compose([ \n",
    "            transforms.Resize(256),\n",
    "            transforms.CenterCrop(224),\n",
    "            transforms.ToTensor(),normalize ])\n",
    "    \n",
    "\n",
    "    \n",
    "    datadir=os.environ['DATA_DIR']\n",
    "    trainset = torchvision.datasets.ImageFolder(root=os.path.join(datadir,'train'),\n",
    "                                                transform=train_transform)\n",
    "    trainSampler = torch.utils.data.distributed.DistributedSampler(trainset,\n",
    "                                                               num_replicas=world_size,\n",
    "                                                               rank=gpu,\n",
    "                                                               shuffle=trainSampler_shuffle,\n",
    "                                                               drop_last=True)\n",
    "    trainloader = torch.utils.data.DataLoader(trainset, \n",
    "                                          batch_size=batch_size,\n",
    "                                          shuffle=False, \n",
    "                                          num_workers=num_workers,\n",
    "                                          pin_memory=True,\n",
    "                                          sampler=trainSampler)\n",
    "                                         \n",
    "\n",
    "    valset = torchvision.datasets.ImageFolder(root=os.path.join(datadir,'val'),\n",
    "                                              transform=val_transform)\n",
    "    valSampler = torch.utils.data.distributed.DistributedSampler(valset,\n",
    "                                                                  num_replicas=world_size,\n",
    "                                                                  rank=gpu,\n",
    "                                                                 shuffle=False)\n",
    "    valloader = torch.utils.data.DataLoader(valset, \n",
    "                                             batch_size=batch_size,\n",
    "                                             shuffle=False, \n",
    "                                             num_workers=num_workers,\n",
    "                                             pin_memory=True,\n",
    "                                             sampler=valSampler)\n",
    "    return trainloader,valloader"
   ]
  },
  {
   "cell_type": "markdown",
   "metadata": {},
   "source": [
    "## Choose a Neural Network architecture\n",
    "\n"
   ]
  },
  {
   "cell_type": "code",
   "execution_count": null,
   "metadata": {},
   "outputs": [],
   "source": [
    "# Pre-training\n",
    "net=torchvision.models.resnet50(weights=None,num_classes=200)\n",
    "# Transfer learning\n",
    "#net=torchvision.models.resnet50(weights=torchvision.models.ResNet50_Weights.IMAGENET1K_V2)"
   ]
  },
  {
   "cell_type": "markdown",
   "metadata": {},
   "source": [
    "## Training\n",
    "Some additions and modifications are required to your training section. E.g.\n",
    "- Define a function for setting up multiple GPU context (using awareness of the environment)\n",
    "    - Here you can select the backend or the communication library to move data between memory of GPUs\n",
    "- Define a function and add the training steps in it\n",
    "    - Wrap model in DistributedDataParallel class\n",
    "    - The model, loss function and optimizer needs to be offloaded to each device using the corresponding gpu_id\n",
    "    - Figure out which tasks will be done exclusively master process (gpu_id==0)\n",
    "        - e.g. printing, writing tensorboard logs, saving and loading checkpoints etc\n",
    "    - Optionally, collect training accurracy and loss metrics on GPU 0 so it can write to tensorboard logs\n",
    "- Define a function that setups up the training environment and then calls the training\n",
    "\n"
   ]
  },
  {
   "cell_type": "code",
   "execution_count": null,
   "metadata": {},
   "outputs": [],
   "source": [
    "def setup(rank, world_size):\n",
    "\n",
    "    # initialize the process group\n",
    "    dist.init_process_group(backend=\"nccl\", rank=rank, world_size=world_size)\n",
    "\n",
    "def cleanup():\n",
    "    dist.destroy_process_group()"
   ]
  },
  {
   "cell_type": "code",
   "execution_count": null,
   "metadata": {
    "collapsed": false,
    "jupyter": {
     "outputs_hidden": false
    }
   },
   "outputs": [],
   "source": [
    "def train (net,world_size,rank,args):\n",
    "    \n",
    "    if 'LOCAL_RANK' in os.environ.keys():\n",
    "        gpu_id=int(os.environ['LOCAL_RANK'])\n",
    "    else:\n",
    "        gpu_id=rank\n",
    "    \n",
    "    # Instantiate Tensorboard writer on process handler for GPU 0\n",
    "    if rank == 0:\n",
    "        writer = SummaryWriter(\"logs/experiment_%s\" %(os.environ['SLURM_JOBID']))\n",
    "\n",
    "\n",
    "    \n",
    "    # Enable AMP\n",
    "    scaler = amp.GradScaler()\n",
    "    net.cuda(gpu_id)\n",
    "    \n",
    "    criterion = nn.CrossEntropyLoss().cuda(gpu_id)\n",
    "    optimizer = optim.SGD(net.parameters(), \n",
    "                          lr=args.lr, \n",
    "                          momentum=args.momentum,\n",
    "                          weight_decay=args.weight_decay)\n",
    "    \n",
    "    # [Optional]: Set LR scheduler\n",
    "    scheduler =  StepLR(optimizer,step_size=30, gamma=0.1)\n",
    "    \n",
    "    trainloader, valloader = dataloader(gpu_id,world_size,\n",
    "                                        args.batch_size,\n",
    "                                        args.num_workers)\n",
    "    # Wrap model as DDP\n",
    "    net = torch.nn.parallel.DistributedDataParallel(net,device_ids=[gpu_id])\n",
    "    start_timer()\n",
    "    print('Starting training on GPU %d of %d -- ' %(rank,world_size))\n",
    "    for epoch in range(args.epochs):  # loop over the dataset multiple times\n",
    "        train_loss = 0.0\n",
    "        train_acc  = 0\n",
    "        trainloader.sampler.set_epoch(epoch)\n",
    "        net.train()\n",
    "        for i, data in enumerate(trainloader):\n",
    "            # get the inputs; data is a list of [inputs, labels]\n",
    "            inputs, labels = data[0].cuda(gpu_id, non_blocking=True), data[1].cuda(gpu_id,non_blocking=True)\n",
    "        \n",
    "            # zero the parameter gradients\n",
    "            optimizer.zero_grad()\n",
    "\n",
    "            # forward + backward + optimize\n",
    "            outputs = net(inputs)\n",
    "            loss = criterion(outputs, labels)\n",
    "            loss.backward()\n",
    "            optimizer.step()\n",
    "\n",
    "            train_loss += loss.item()\n",
    "            train_acc  += accuracy(outputs,labels)           \n",
    "            \n",
    "        valloader.sampler.set_epoch(epoch)\n",
    "        val_loss = 0.0\n",
    "        val_acc  = 0\n",
    "        net.eval()\n",
    "        for i, data in enumerate(valloader):\n",
    "            inputs, labels = data[0].cuda(gpu_id,non_blocking=True), data[1].cuda(gpu_id,non_blocking=True)\n",
    "            with torch.no_grad():\n",
    "                outputs = net(inputs)\n",
    "                loss = criterion(outputs, labels)\n",
    "            val_loss += loss.item() \n",
    "            val_acc  += accuracy(outputs,labels)\n",
    "            \n",
    "        # Gather accuracy metric from all training units on GPU 0  \n",
    "        # to calculate an average over the size training dataset \n",
    "        train_loss = torch.tensor(train_loss).cuda(gpu_id)\n",
    "        dist.reduce(train_loss,0,dist.ReduceOp.SUM)\n",
    "        train_acc = torch.tensor(train_acc).cuda(gpu_id)\n",
    "        dist.reduce(train_acc,0,dist.ReduceOp.SUM)\n",
    "        \n",
    "        val_loss = torch.tensor(val_loss).cuda(gpu_id)\n",
    "        dist.reduce(val_loss,0,dist.ReduceOp.SUM)\n",
    "        val_acc = torch.tensor(val_acc).cuda(gpu_id)  \n",
    "        dist.reduce(val_acc,0,dist.ReduceOp.SUM)\n",
    "\n",
    "        # Print from GPU 0\n",
    "        if rank == 0:\n",
    "            train_loss = train_loss.item() / len(trainloader.dataset.targets)\n",
    "            train_acc  = 100 * (train_acc.item() / len(trainloader.dataset.targets))\n",
    "            \n",
    "            val_loss   = val_loss.item() / len(valloader.dataset.targets)\n",
    "            val_acc    = 100 * (val_acc.item() / len(valloader.dataset.targets))\n",
    "\n",
    "            print(f'[{epoch + 1}] :Loss (train, val):{train_loss:.3f}, {val_loss:.3f}| Accuracy (train,val): {train_acc:.3f}, {val_acc:.3f}')\n",
    "            writer.add_scalar(\"Loss/train\", train_loss , epoch)\n",
    "            writer.add_scalar(\"Accuracy/train\", train_acc , epoch)\n",
    "            writer.add_scalar(\"Loss/val\", val_loss , epoch)\n",
    "            writer.add_scalar(\"Accuracy/val\", val_acc , epoch)\n",
    "            writer.flush\n",
    "        \n",
    "        # Save checkpoint every 10th epoch\n",
    "        if (epoch+1) % 10 == 0:\n",
    "            if rank == 0:\n",
    "                PATH='./model_chkpt_ep%d.pth' %(epoch)\n",
    "                torch.save(net.state_dict(), PATH)\n",
    "                \n",
    "        scheduler.step()\n",
    "        \n",
    "    if rank == 0:\n",
    "        end_timer_and_print('Finished Training')\n",
    "        writer.close()"
   ]
  },
  {
   "cell_type": "code",
   "execution_count": null,
   "metadata": {},
   "outputs": [],
   "source": [
    "def main(net,args):\n",
    "    world_size = args.gpus\n",
    "    setup(rank, world_size)\n",
    "    train(net,world_size,rank,args)\n",
    "    return True"
   ]
  },
  {
   "cell_type": "raw",
   "metadata": {},
   "source": [
    "# Uncomment when using as python script\n",
    "if __name__ == '__main__':\n",
    "    world_size= int(os.environ['WORLD_SIZE'])\n",
    "    rank      = int(os.environ['RANK'])\n",
    "    local_rank= int(os.environ['LOCAL_RANK'])\n",
    "\n",
    "    parser = argparse.ArgumentParser()\n",
    "    parser.add_argument(\"--num-workers\", default=10,\n",
    "                        help=\"number of dataloaders\", type=int)\n",
    "    parser.add_argument(\"--batch-size\", default=256,\n",
    "                        help=\"mini batch size per GPU\", type=int)\n",
    "    parser.add_argument(\"--epochs\", default=5,\n",
    "                        help=\"total epochs\", type=int)\n",
    "    parser.add_argument(\"--lr\", default=0.1,\n",
    "                        help=\"Learning rate\",type=float)\n",
    "    parser.add_argument(\"--momentum\", default=0.9,\n",
    "                        help=\"Momentum\", type=float)\n",
    "    parser.add_argument(\"--weight-decay\", default=1e-4,\n",
    "                        help=\"Momentum\", type=float)\n",
    "    parser.add_argument(\"--print-interval\", default=100,\n",
    "                        help=\"Momentum\", type=int)\n",
    "    args = parser.parse_args()\n",
    "    \n",
    "    setup(rank, world_size)\n",
    "    # Pre-training\n",
    "    train(net,world_size,rank,args)\n",
    "    cleanup()"
   ]
  },
  {
   "cell_type": "code",
   "execution_count": null,
   "metadata": {},
   "outputs": [],
   "source": [
    "# Comment when using as python script\n",
    "class nb_args():\n",
    "    nodes = 1\n",
    "    gpus=int(os.environ['SLURM_GPUS'])\n",
    "    num_workers = 8\n",
    "    batch_size=32\n",
    "    epochs=2\n",
    "    lr=1e-3\n",
    "    momentum=0.9\n",
    "    weight_decay=1e-4\n",
    "    print_interval=100\n",
    "args=nb_args()\n",
    "os.environ['MASTER_ADDR']='localhost'\n",
    "os.environ['MASTER_PORT']='12355'"
   ]
  },
  {
   "cell_type": "code",
   "execution_count": null,
   "metadata": {},
   "outputs": [],
   "source": [
    "!pip install -q multiprocess"
   ]
  },
  {
   "cell_type": "code",
   "execution_count": null,
   "metadata": {},
   "outputs": [],
   "source": [
    "# Comment when using as python script\n",
    "import multiprocess as mp\n",
    "num_processes = args.gpus\n",
    "# NOTE: this is required for the ``fork`` method to work\n",
    "net.share_memory()\n",
    "\n",
    "processes = []\n",
    "for rank in range(num_processes):\n",
    "    p = mp.Process(target=main, args=(net,args))\n",
    "    p.start()\n",
    "    processes.append(p)\n",
    "for p in processes:\n",
    "    p.join()"
   ]
  }
 ],
 "metadata": {
  "kernelspec": {
   "display_name": "Python 3",
   "language": "python",
   "name": "python3"
  },
  "language_info": {
   "codemirror_mode": {
    "name": "ipython",
    "version": 3
   },
   "file_extension": ".py",
   "mimetype": "text/x-python",
   "name": "python",
   "nbconvert_exporter": "python",
   "pygments_lexer": "ipython3",
   "version": "3.6.10"
  }
 },
 "nbformat": 4,
 "nbformat_minor": 4
}
